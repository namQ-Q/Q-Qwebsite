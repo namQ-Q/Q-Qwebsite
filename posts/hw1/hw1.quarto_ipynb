{
  "cells": [
    {
      "cell_type": "markdown",
      "metadata": {},
      "source": [
        "---\n",
        "title: \"homework1\"\n",
        "author: \"강남규\"\n",
        "date: \"2024-07-12\"\n",
        "categories: [bigdata]\n",
        "---\n",
        "\n",
        "\n",
        "## 84페이지 혼자서 해보기\n",
        "\n",
        "Q1"
      ],
      "id": "71770d07"
    },
    {
      "cell_type": "code",
      "metadata": {},
      "source": [
        "import pandas as pd\n",
        "df = pd.DataFrame({'제품'   : ['사과', '딸기', '수박'],\n",
        "                   '가격'   : [1800, 1500, 3000],\n",
        "                   '판매량' : [24, 38, 13]}\n",
        ")\n",
        "df"
      ],
      "id": "cb6d3299",
      "execution_count": null,
      "outputs": []
    },
    {
      "cell_type": "markdown",
      "metadata": {},
      "source": [
        "Q2"
      ],
      "id": "9181fbed"
    },
    {
      "cell_type": "code",
      "metadata": {},
      "source": [
        "sum(df['가격']) / 3         # 과일의 가격 평균\n",
        "sum(df['판매량']) / 3       # 판매량 평균균"
      ],
      "id": "a2139418",
      "execution_count": null,
      "outputs": []
    },
    {
      "cell_type": "markdown",
      "metadata": {},
      "source": [
        "## 115페이지 혼자서 해보기기\n",
        "\n",
        "Q1"
      ],
      "id": "986802ba"
    },
    {
      "cell_type": "code",
      "metadata": {},
      "source": [
        "mpg = pd.read_csv('mpg.csv')\n",
        "mpg_copy = mpg.copy()\n",
        "mpg_copy"
      ],
      "id": "82e3db90",
      "execution_count": null,
      "outputs": []
    },
    {
      "cell_type": "markdown",
      "metadata": {},
      "source": [
        "Q2"
      ],
      "id": "0aa0cdaf"
    },
    {
      "cell_type": "code",
      "metadata": {},
      "source": [
        "mpg_copy = mpg_copy.rename(columns = {'cty' : 'city',\n",
        "                                      'hwy' : 'highway'})\n",
        "\n",
        "mpg_copy"
      ],
      "id": "b235b94c",
      "execution_count": null,
      "outputs": []
    },
    {
      "cell_type": "markdown",
      "metadata": {},
      "source": [
        "## 130페이지 분석도전\n",
        "\n",
        "Q1 midwest.csv를 불러와 데이터의 특징을 파악하세요."
      ],
      "id": "50d57e79"
    },
    {
      "cell_type": "code",
      "metadata": {},
      "source": [
        "mid = pd.read_csv('midwest.csv')\n",
        "mid"
      ],
      "id": "d26aa701",
      "execution_count": null,
      "outputs": []
    },
    {
      "cell_type": "code",
      "metadata": {},
      "source": [
        "mid.shape"
      ],
      "id": "dc2cbbc6",
      "execution_count": null,
      "outputs": []
    },
    {
      "cell_type": "code",
      "metadata": {},
      "source": [
        "mid.info()"
      ],
      "id": "b650dbc6",
      "execution_count": null,
      "outputs": []
    },
    {
      "cell_type": "code",
      "metadata": {},
      "source": [
        "mid.describe()"
      ],
      "id": "136cc0fc",
      "execution_count": null,
      "outputs": []
    },
    {
      "cell_type": "markdown",
      "metadata": {},
      "source": [
        "Q2 poptotal변수를 total로, popasian변수를 asian으로 수정하세요"
      ],
      "id": "30be7d65"
    },
    {
      "cell_type": "code",
      "metadata": {},
      "source": [
        "mid = mid.rename(columns = {'poptotal' : 'total'})\n",
        "mid = mid.rename(columns = {'popasian' : 'asian'})\n",
        "mid.info()"
      ],
      "id": "de342d47",
      "execution_count": null,
      "outputs": []
    },
    {
      "cell_type": "markdown",
      "metadata": {},
      "source": [
        "Q3 total, asian변수를 이용해 '전체 인구 대비 아시아 인구 백분율'\n",
        "파생변수를 추가하고, 히스토그램을 만들어 분포를 살펴보세요."
      ],
      "id": "e75faaa7"
    },
    {
      "cell_type": "code",
      "metadata": {},
      "source": [
        "mid['asia_per'] = (mid['asian'] / mid['total']) * 100\n",
        "mid.head()"
      ],
      "id": "34e78b1a",
      "execution_count": null,
      "outputs": []
    },
    {
      "cell_type": "code",
      "metadata": {},
      "source": [
        "import matplotlib.pyplot as plt\n",
        "mid['asia_per'].plot.hist()\n",
        "plt.show()"
      ],
      "id": "f4254be6",
      "execution_count": null,
      "outputs": []
    },
    {
      "cell_type": "markdown",
      "metadata": {},
      "source": [
        "Q4 아시아 인구 백분율 전체 평균을 구하고, 평균을 초과하면 'large', 그 외에는 'small'을 부여한 파생변수를 만들어 보세요."
      ],
      "id": "9eedb875"
    },
    {
      "cell_type": "code",
      "metadata": {},
      "source": [
        "asia_mean = mid['asia_per'].mean()\n",
        "asia_mean"
      ],
      "id": "f22c1684",
      "execution_count": null,
      "outputs": []
    },
    {
      "cell_type": "code",
      "metadata": {},
      "source": [
        "import numpy as np\n",
        "mid['lar_sml'] = np.where(mid['asia_per'] > asia_mean, 'large', 'small')\n",
        "mid['lar_sml'].head(10)"
      ],
      "id": "cf631a6c",
      "execution_count": null,
      "outputs": []
    },
    {
      "cell_type": "markdown",
      "metadata": {},
      "source": [
        "Q5 'large'와 'small'에 해당되는 지역이 얼마나 많은지 빈도ㅛ와 빈도 막대 그래프를 만들어 확인해 보세요."
      ],
      "id": "ee427485"
    },
    {
      "cell_type": "code",
      "metadata": {},
      "source": [
        "plt.clf()\n",
        "count = mid['lar_sml'].value_counts()\n",
        "count"
      ],
      "id": "7a1f8524",
      "execution_count": null,
      "outputs": []
    },
    {
      "cell_type": "code",
      "metadata": {},
      "source": [
        "count.plot.bar(rot=0)\n",
        "plt.show()"
      ],
      "id": "d7962070",
      "execution_count": null,
      "outputs": []
    }
  ],
  "metadata": {
    "kernelspec": {
      "name": "python3",
      "language": "python",
      "display_name": "Python 3 (ipykernel)",
      "path": "C:\\Users\\USER\\AppData\\Local\\Programs\\Python\\Python39\\share\\jupyter\\kernels\\python3"
    }
  },
  "nbformat": 4,
  "nbformat_minor": 5
}