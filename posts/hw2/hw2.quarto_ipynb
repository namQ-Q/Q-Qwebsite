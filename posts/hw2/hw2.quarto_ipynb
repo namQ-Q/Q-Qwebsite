{
  "cells": [
    {
      "cell_type": "markdown",
      "metadata": {},
      "source": [
        "---\n",
        "title: \"homework2\"\n",
        "author: \"강남규\"\n",
        "date: \"2024-07-12\"\n",
        "categories: [bigdata]\n",
        "---\n",
        "\n",
        "\n",
        "## 144페이지 혼자서 해보기\n",
        "\n",
        "### Q1\n",
        "자동차 배기량에 따라 고속도로 연비가 다른지 알아보려고 합니다. displ(배기량)이 4 이하인 자동차와 5 이상인 자동차 중 어떤 자동차의 hwy(고속도로 연비) 평균이 더 높은지 알아보세요."
      ],
      "id": "57ebe28b"
    },
    {
      "cell_type": "code",
      "metadata": {},
      "source": [
        "import pandas as pd\n",
        "import numpy as np\n",
        "\n",
        "mpg = pd.read_csv('mpg.csv')\n",
        "mpg.head()"
      ],
      "id": "479a5c13",
      "execution_count": null,
      "outputs": []
    },
    {
      "cell_type": "code",
      "metadata": {},
      "source": [
        "mpg_a = mpg.query('displ <= 4')\n",
        "mpg_a['hwy'].mean()"
      ],
      "id": "31960aba",
      "execution_count": null,
      "outputs": []
    },
    {
      "cell_type": "code",
      "metadata": {},
      "source": [
        "mpg_b = mpg.query('displ >= 5')\n",
        "mpg_b['hwy'].mean()"
      ],
      "id": "75960157",
      "execution_count": null,
      "outputs": []
    },
    {
      "cell_type": "code",
      "metadata": {},
      "source": [
        "mpg_a['hwy'].mean() > mpg_b['hwy'].mean()"
      ],
      "id": "a2495048",
      "execution_count": null,
      "outputs": []
    },
    {
      "cell_type": "markdown",
      "metadata": {},
      "source": [
        "### Q2\n",
        "자동차 제조 회사에 따라 도시 연비가 어떻게 다른지 알아보려고 합니다. 'audi'와 'toyota'중 어느 manufacturer의 cty평균이 더 높은지 알아보세요.\n"
      ],
      "id": "d97cfaa0"
    },
    {
      "cell_type": "code",
      "metadata": {},
      "source": [
        "mpg_audi = mpg.query('manufacturer == \"audi\"')\n",
        "mpg_toyo = mpg.query('manufacturer == \"toyota\"')"
      ],
      "id": "554e5970",
      "execution_count": null,
      "outputs": []
    },
    {
      "cell_type": "code",
      "metadata": {},
      "source": [
        "mpg_audi['cty'].mean() < mpg_toyo['hwy'].mean()"
      ],
      "id": "0dddee6b",
      "execution_count": null,
      "outputs": []
    },
    {
      "cell_type": "markdown",
      "metadata": {},
      "source": [
        "### Q3\n",
        "'chevrolet', 'fold', 'honda' 자동차의 고속도로 연비 평균을 알아보려고 합니다. 세 회사의 데이터를 추출한 다음 hwy 전체 평균을 구해 보세요.\n"
      ],
      "id": "45c7289c"
    },
    {
      "cell_type": "code",
      "metadata": {},
      "source": [
        "mpg_new = mpg.query('manufacturer in [\"chevrolet\", \"fold\", \"honda\" ]')\n",
        "\n",
        "mpg_new['hwy'].mean()"
      ],
      "id": "b74e7053",
      "execution_count": null,
      "outputs": []
    },
    {
      "cell_type": "markdown",
      "metadata": {},
      "source": [
        "## 153페이지 혼자서 해보기\n",
        "\n",
        "### Q1\n",
        "'audi'에서 생산한 자동차 중에 어떤 자동차 모델의 hwy가 높은지 알아보려고 합니다. 'audi'에서 생산한 자동차 중 hwy가 1~5위에 해당되는 자동차의 데이터를 출력하세요.\n"
      ],
      "id": "85dfb899"
    },
    {
      "cell_type": "code",
      "metadata": {},
      "source": [
        "mpg.query('manufacturer == \"audi\"') \\\n",
        "   .sort_values(\"hwy\", ascending = False) \\\n",
        "   .head()"
      ],
      "id": "7c964bc4",
      "execution_count": null,
      "outputs": []
    },
    {
      "cell_type": "markdown",
      "metadata": {},
      "source": [
        "## 158페이지 혼자서 해보기\n",
        "\n",
        "### Q1\n",
        "mpg 데이터 복사본을 만들고, cty와 hwy를 더한 '합산 연비 변수'를 추가하세요.\n"
      ],
      "id": "afca1d26"
    },
    {
      "cell_type": "code",
      "metadata": {},
      "source": [
        "mpg_copy = mpg.copy()\n",
        "mpg_copy['sum'] = mpg_copy['cty'] + mpg_copy['hwy']\n",
        "mpg_copy"
      ],
      "id": "b394a74e",
      "execution_count": null,
      "outputs": []
    },
    {
      "cell_type": "markdown",
      "metadata": {},
      "source": [
        "### Q2\n",
        "앞에서 만든 '합산 연비 변수'를 2로 나눠 '평균 연비 변수'를 추가하세요."
      ],
      "id": "c6c82ae0"
    },
    {
      "cell_type": "code",
      "metadata": {},
      "source": [
        "mpg_copy['mean'] = mpg_copy['sum'] /2\n",
        "mpg_copy"
      ],
      "id": "dbfdf0aa",
      "execution_count": null,
      "outputs": []
    },
    {
      "cell_type": "markdown",
      "metadata": {},
      "source": [
        "### Q3\n",
        "'평균 연비 변수'가 가장 높은 자동차 3종의 데이터를 출력하세요."
      ],
      "id": "065eb290"
    },
    {
      "cell_type": "code",
      "metadata": {},
      "source": [
        "mpg_copy.sort_values('mean', ascending = False) \\\n",
        "        .head()"
      ],
      "id": "5c29997a",
      "execution_count": null,
      "outputs": []
    },
    {
      "cell_type": "markdown",
      "metadata": {},
      "source": [
        "### Q4\n",
        "1~3번 문제를 해결할 수 있는 하나로 연결된 pandas 구문을 만들어 실행해 보세요. 데이터는 복사본 대신 mpg원본을 이용하세요.\n"
      ],
      "id": "73675b4f"
    },
    {
      "cell_type": "code",
      "metadata": {},
      "source": [
        "mpg.assign(s_um = lambda x : x['hwy'] + x['cty'],\n",
        "           mean = lambda x : x['s_um'] /2) \\\n",
        "   .sort_values('mean', ascending = False) \\\n",
        "   .head()"
      ],
      "id": "e898d8cb",
      "execution_count": null,
      "outputs": []
    }
  ],
  "metadata": {
    "kernelspec": {
      "name": "python3",
      "language": "python",
      "display_name": "Python 3 (ipykernel)",
      "path": "C:\\Users\\USER\\AppData\\Local\\Programs\\Python\\Python39\\share\\jupyter\\kernels\\python3"
    }
  },
  "nbformat": 4,
  "nbformat_minor": 5
}